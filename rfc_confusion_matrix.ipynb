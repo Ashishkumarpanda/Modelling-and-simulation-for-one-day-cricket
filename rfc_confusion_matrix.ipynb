{
 "cells": [
  {
   "cell_type": "code",
   "execution_count": 1,
   "metadata": {},
   "outputs": [
    {
     "name": "stdout",
     "output_type": "stream",
     "text": [
      "[[  4   0   0   0   0]\n",
      " [  0 117   0   0  23]\n",
      " [  2   0  12   0   0]\n",
      " [  0   0   2   0   0]\n",
      " [  0  33   0   0 138]]\n"
     ]
    }
   ],
   "source": [
    "# Dataset source - Kaggle - https://www.kaggle.com/saivamshi/cricket-world-cup-2019-players-data - 'ODI_Match_Results.csv' file.\n",
    "\n",
    "import numpy as np\n",
    "import pandas as pd\n",
    "import datetime\n",
    "import matplotlib.pyplot as plt\n",
    "\n",
    "df = pd.read_csv('D:/Users/Bhuvanjeet/Desktop/cricket/ODI_Match_Results.csv') \n",
    "\n",
    "\n",
    "y = df['Result']\n",
    "\n",
    "X = df.loc[:,['Margin','Toss','Bat','Opposition','Ground','Country']]\n",
    "\n",
    "\n",
    "from sklearn.preprocessing import LabelEncoder, OneHotEncoder\n",
    "labelencoder_X = LabelEncoder()\n",
    "#X[:, 0] = labelencoder_X.fit_transform(X[:, 0])\n",
    "onehotencoder = OneHotEncoder()\n",
    "#X = X.replace('<', '', regex=True)\n",
    "X = onehotencoder.fit_transform(X).toarray()\n",
    "# Encoding the Dependent Variable\n",
    "labelencoder_y = LabelEncoder()\n",
    "y = labelencoder_y.fit_transform(y)\n",
    "\n",
    "from sklearn.model_selection import train_test_split\n",
    "X_train, X_test, y_train, y_test = train_test_split(X, y, test_size = 0.25, random_state = 0)\n",
    "\n",
    "\n",
    "# Feature Scaling\n",
    "from sklearn.preprocessing import StandardScaler\n",
    "sc = StandardScaler()\n",
    "X_train = sc.fit_transform(X_train)\n",
    "X_test = sc.transform(X_test)\n",
    "\n",
    "\n",
    "# Applying LDA\n",
    "#from sklearn.discriminant_analysis import LinearDiscriminantAnalysis as LDA\n",
    "#lda = LDA(n_components = 2)\n",
    "#X_train = lda.fit_transform(X_train, y_train)\n",
    "#X_test = lda.transform(X_test)\n",
    "\n",
    "# Applying PCA\n",
    "#from sklearn.decomposition import PCA\n",
    "#pca = PCA(n_components = 2)\n",
    "#X_train = pca.fit_transform(X_train)\n",
    "#X_test = pca.transform(X_test)\n",
    "#explained_variance = pca.explained_variance_ratio_\n",
    "#explained_variance\n",
    "\n",
    "from sklearn.ensemble import RandomForestClassifier\n",
    "classifier = RandomForestClassifier(n_estimators = 10, criterion = 'entropy', random_state = 0)\n",
    "classifier.fit(X_train, y_train)\n",
    "\n",
    "# Predicting the Test set results\n",
    "y_pred = classifier.predict(X_test)\n",
    "y_pred\n",
    "# Making the Confusion Matrix\n",
    "from sklearn.metrics import confusion_matrix\n",
    "cm = confusion_matrix(y_test, y_pred)\n",
    "y_test\n",
    "print(cm) #printing confusion matrix"
   ]
  }
 ],
 "metadata": {
  "kernelspec": {
   "display_name": "tensorflow3.7",
   "language": "python",
   "name": "tensorflow3.7"
  },
  "language_info": {
   "codemirror_mode": {
    "name": "ipython",
    "version": 3
   },
   "file_extension": ".py",
   "mimetype": "text/x-python",
   "name": "python",
   "nbconvert_exporter": "python",
   "pygments_lexer": "ipython3",
   "version": "3.7.7"
  }
 },
 "nbformat": 4,
 "nbformat_minor": 4
}